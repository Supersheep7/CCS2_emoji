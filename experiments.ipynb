{
 "cells": [
  {
   "cell_type": "code",
   "execution_count": 10,
   "metadata": {},
   "outputs": [],
   "source": [
    "from lookup import df\n",
    "import re"
   ]
  },
  {
   "cell_type": "code",
   "execution_count": 11,
   "metadata": {},
   "outputs": [],
   "source": [
    "emojis = df.index.tolist()"
   ]
  },
  {
   "cell_type": "code",
   "execution_count": 13,
   "metadata": {},
   "outputs": [
    {
     "name": "stdout",
     "output_type": "stream",
     "text": [
      "hahahah 😭\n",
      "fuuuuuuuu ❤️\n"
     ]
    }
   ],
   "source": [
    "strings = [\n",
    "    \"Well fuck\",\n",
    "    \"well fuck\",\n",
    "    \"yo fuck\",\n",
    "    \"hahahah 😭\",\n",
    "    \"fuuuuuuuu ❤️\"\n",
    "]\n",
    "\n",
    "pattern = '|'.join(map(re.escape, emojis))\n",
    "\n",
    "for string in strings:\n",
    "    if bool(re.search(pattern, string)):\n",
    "        print(string)"
   ]
  },
  {
   "cell_type": "code",
   "execution_count": 17,
   "metadata": {},
   "outputs": [
    {
     "name": "stdout",
     "output_type": "stream",
     "text": [
      "dataset\\backhand_index_pointing_right.csv\n",
      "dataset\\check_mark.csv\n"
     ]
    },
    {
     "name": "stderr",
     "output_type": "stream",
     "text": [
      "C:\\Users\\aless\\AppData\\Local\\Temp\\ipykernel_3416\\3762182032.py:10: ParserWarning: Falling back to the 'python' engine because the 'c' engine does not support regex separators (separators > 1 char and different from '\\s+' are interpreted as regex); you can avoid this warning by specifying engine='python'.\n",
      "  df = pd.read_csv(file_path, encoding='utf-8', delimiter='\\\\n', on_bad_lines='warn', names=['Text'])\n",
      "C:\\Users\\aless\\AppData\\Local\\Temp\\ipykernel_3416\\3762182032.py:10: ParserWarning: Falling back to the 'python' engine because the 'c' engine does not support regex separators (separators > 1 char and different from '\\s+' are interpreted as regex); you can avoid this warning by specifying engine='python'.\n",
      "  df = pd.read_csv(file_path, encoding='utf-8', delimiter='\\\\n', on_bad_lines='warn', names=['Text'])\n"
     ]
    },
    {
     "name": "stdout",
     "output_type": "stream",
     "text": [
      "dataset\\check_mark_button.csv\n",
      "dataset\\clown_face.csv\n"
     ]
    },
    {
     "name": "stderr",
     "output_type": "stream",
     "text": [
      "C:\\Users\\aless\\AppData\\Local\\Temp\\ipykernel_3416\\3762182032.py:10: ParserWarning: Falling back to the 'python' engine because the 'c' engine does not support regex separators (separators > 1 char and different from '\\s+' are interpreted as regex); you can avoid this warning by specifying engine='python'.\n",
      "  df = pd.read_csv(file_path, encoding='utf-8', delimiter='\\\\n', on_bad_lines='warn', names=['Text'])\n",
      "C:\\Users\\aless\\AppData\\Local\\Temp\\ipykernel_3416\\3762182032.py:10: ParserWarning: Falling back to the 'python' engine because the 'c' engine does not support regex separators (separators > 1 char and different from '\\s+' are interpreted as regex); you can avoid this warning by specifying engine='python'.\n",
      "  df = pd.read_csv(file_path, encoding='utf-8', delimiter='\\\\n', on_bad_lines='warn', names=['Text'])\n"
     ]
    },
    {
     "name": "stdout",
     "output_type": "stream",
     "text": [
      "dataset\\cooking.csv\n",
      "dataset\\egg.csv\n",
      "dataset\\enraged_face.csv\n",
      "dataset\\eyes.csv\n"
     ]
    },
    {
     "name": "stderr",
     "output_type": "stream",
     "text": [
      "C:\\Users\\aless\\AppData\\Local\\Temp\\ipykernel_3416\\3762182032.py:10: ParserWarning: Falling back to the 'python' engine because the 'c' engine does not support regex separators (separators > 1 char and different from '\\s+' are interpreted as regex); you can avoid this warning by specifying engine='python'.\n",
      "  df = pd.read_csv(file_path, encoding='utf-8', delimiter='\\\\n', on_bad_lines='warn', names=['Text'])\n",
      "C:\\Users\\aless\\AppData\\Local\\Temp\\ipykernel_3416\\3762182032.py:10: ParserWarning: Falling back to the 'python' engine because the 'c' engine does not support regex separators (separators > 1 char and different from '\\s+' are interpreted as regex); you can avoid this warning by specifying engine='python'.\n",
      "  df = pd.read_csv(file_path, encoding='utf-8', delimiter='\\\\n', on_bad_lines='warn', names=['Text'])\n",
      "C:\\Users\\aless\\AppData\\Local\\Temp\\ipykernel_3416\\3762182032.py:10: ParserWarning: Falling back to the 'python' engine because the 'c' engine does not support regex separators (separators > 1 char and different from '\\s+' are interpreted as regex); you can avoid this warning by specifying engine='python'.\n",
      "  df = pd.read_csv(file_path, encoding='utf-8', delimiter='\\\\n', on_bad_lines='warn', names=['Text'])\n",
      "C:\\Users\\aless\\AppData\\Local\\Temp\\ipykernel_3416\\3762182032.py:10: ParserWarning: Falling back to the 'python' engine because the 'c' engine does not support regex separators (separators > 1 char and different from '\\s+' are interpreted as regex); you can avoid this warning by specifying engine='python'.\n",
      "  df = pd.read_csv(file_path, encoding='utf-8', delimiter='\\\\n', on_bad_lines='warn', names=['Text'])\n"
     ]
    },
    {
     "name": "stdout",
     "output_type": "stream",
     "text": [
      "dataset\\face_holding_back_tears.csv\n",
      "dataset\\face_savoring_food.csv\n",
      "dataset\\face_with_steam_from_nose.csv\n",
      "dataset\\face_with_tears_of_joy.csv\n"
     ]
    },
    {
     "name": "stderr",
     "output_type": "stream",
     "text": [
      "C:\\Users\\aless\\AppData\\Local\\Temp\\ipykernel_3416\\3762182032.py:10: ParserWarning: Falling back to the 'python' engine because the 'c' engine does not support regex separators (separators > 1 char and different from '\\s+' are interpreted as regex); you can avoid this warning by specifying engine='python'.\n",
      "  df = pd.read_csv(file_path, encoding='utf-8', delimiter='\\\\n', on_bad_lines='warn', names=['Text'])\n",
      "C:\\Users\\aless\\AppData\\Local\\Temp\\ipykernel_3416\\3762182032.py:10: ParserWarning: Falling back to the 'python' engine because the 'c' engine does not support regex separators (separators > 1 char and different from '\\s+' are interpreted as regex); you can avoid this warning by specifying engine='python'.\n",
      "  df = pd.read_csv(file_path, encoding='utf-8', delimiter='\\\\n', on_bad_lines='warn', names=['Text'])\n",
      "C:\\Users\\aless\\AppData\\Local\\Temp\\ipykernel_3416\\3762182032.py:10: ParserWarning: Falling back to the 'python' engine because the 'c' engine does not support regex separators (separators > 1 char and different from '\\s+' are interpreted as regex); you can avoid this warning by specifying engine='python'.\n",
      "  df = pd.read_csv(file_path, encoding='utf-8', delimiter='\\\\n', on_bad_lines='warn', names=['Text'])\n",
      "C:\\Users\\aless\\AppData\\Local\\Temp\\ipykernel_3416\\3762182032.py:10: ParserWarning: Falling back to the 'python' engine because the 'c' engine does not support regex separators (separators > 1 char and different from '\\s+' are interpreted as regex); you can avoid this warning by specifying engine='python'.\n",
      "  df = pd.read_csv(file_path, encoding='utf-8', delimiter='\\\\n', on_bad_lines='warn', names=['Text'])\n"
     ]
    },
    {
     "name": "stdout",
     "output_type": "stream",
     "text": [
      "dataset\\fearful_face.csv\n",
      "dataset\\fire.csv\n",
      "dataset\\folded_hands.csv\n",
      "dataset\\ghost.csv\n"
     ]
    },
    {
     "name": "stderr",
     "output_type": "stream",
     "text": [
      "C:\\Users\\aless\\AppData\\Local\\Temp\\ipykernel_3416\\3762182032.py:10: ParserWarning: Falling back to the 'python' engine because the 'c' engine does not support regex separators (separators > 1 char and different from '\\s+' are interpreted as regex); you can avoid this warning by specifying engine='python'.\n",
      "  df = pd.read_csv(file_path, encoding='utf-8', delimiter='\\\\n', on_bad_lines='warn', names=['Text'])\n",
      "C:\\Users\\aless\\AppData\\Local\\Temp\\ipykernel_3416\\3762182032.py:10: ParserWarning: Falling back to the 'python' engine because the 'c' engine does not support regex separators (separators > 1 char and different from '\\s+' are interpreted as regex); you can avoid this warning by specifying engine='python'.\n",
      "  df = pd.read_csv(file_path, encoding='utf-8', delimiter='\\\\n', on_bad_lines='warn', names=['Text'])\n",
      "C:\\Users\\aless\\AppData\\Local\\Temp\\ipykernel_3416\\3762182032.py:10: ParserWarning: Falling back to the 'python' engine because the 'c' engine does not support regex separators (separators > 1 char and different from '\\s+' are interpreted as regex); you can avoid this warning by specifying engine='python'.\n",
      "  df = pd.read_csv(file_path, encoding='utf-8', delimiter='\\\\n', on_bad_lines='warn', names=['Text'])\n",
      "C:\\Users\\aless\\AppData\\Local\\Temp\\ipykernel_3416\\3762182032.py:10: ParserWarning: Falling back to the 'python' engine because the 'c' engine does not support regex separators (separators > 1 char and different from '\\s+' are interpreted as regex); you can avoid this warning by specifying engine='python'.\n",
      "  df = pd.read_csv(file_path, encoding='utf-8', delimiter='\\\\n', on_bad_lines='warn', names=['Text'])\n"
     ]
    },
    {
     "name": "stdout",
     "output_type": "stream",
     "text": [
      "dataset\\grinning_face_with_sweat.csv\n",
      "dataset\\hatching_chick.csv\n",
      "dataset\\hot_face.csv\n"
     ]
    },
    {
     "name": "stderr",
     "output_type": "stream",
     "text": [
      "C:\\Users\\aless\\AppData\\Local\\Temp\\ipykernel_3416\\3762182032.py:10: ParserWarning: Falling back to the 'python' engine because the 'c' engine does not support regex separators (separators > 1 char and different from '\\s+' are interpreted as regex); you can avoid this warning by specifying engine='python'.\n",
      "  df = pd.read_csv(file_path, encoding='utf-8', delimiter='\\\\n', on_bad_lines='warn', names=['Text'])\n",
      "C:\\Users\\aless\\AppData\\Local\\Temp\\ipykernel_3416\\3762182032.py:10: ParserWarning: Falling back to the 'python' engine because the 'c' engine does not support regex separators (separators > 1 char and different from '\\s+' are interpreted as regex); you can avoid this warning by specifying engine='python'.\n",
      "  df = pd.read_csv(file_path, encoding='utf-8', delimiter='\\\\n', on_bad_lines='warn', names=['Text'])\n",
      "C:\\Users\\aless\\AppData\\Local\\Temp\\ipykernel_3416\\3762182032.py:10: ParserWarning: Falling back to the 'python' engine because the 'c' engine does not support regex separators (separators > 1 char and different from '\\s+' are interpreted as regex); you can avoid this warning by specifying engine='python'.\n",
      "  df = pd.read_csv(file_path, encoding='utf-8', delimiter='\\\\n', on_bad_lines='warn', names=['Text'])\n",
      "C:\\Users\\aless\\AppData\\Local\\Temp\\ipykernel_3416\\3762182032.py:10: ParserWarning: Falling back to the 'python' engine because the 'c' engine does not support regex separators (separators > 1 char and different from '\\s+' are interpreted as regex); you can avoid this warning by specifying engine='python'.\n",
      "  df = pd.read_csv(file_path, encoding='utf-8', delimiter='\\\\n', on_bad_lines='warn', names=['Text'])\n"
     ]
    },
    {
     "name": "stdout",
     "output_type": "stream",
     "text": [
      "dataset\\loudly_crying_face.csv\n",
      "dataset\\melting_face.csv\n",
      "dataset\\middle_finger.csv\n",
      "dataset\\partying_face.csv\n"
     ]
    },
    {
     "name": "stderr",
     "output_type": "stream",
     "text": [
      "C:\\Users\\aless\\AppData\\Local\\Temp\\ipykernel_3416\\3762182032.py:10: ParserWarning: Falling back to the 'python' engine because the 'c' engine does not support regex separators (separators > 1 char and different from '\\s+' are interpreted as regex); you can avoid this warning by specifying engine='python'.\n",
      "  df = pd.read_csv(file_path, encoding='utf-8', delimiter='\\\\n', on_bad_lines='warn', names=['Text'])\n",
      "C:\\Users\\aless\\AppData\\Local\\Temp\\ipykernel_3416\\3762182032.py:10: ParserWarning: Falling back to the 'python' engine because the 'c' engine does not support regex separators (separators > 1 char and different from '\\s+' are interpreted as regex); you can avoid this warning by specifying engine='python'.\n",
      "  df = pd.read_csv(file_path, encoding='utf-8', delimiter='\\\\n', on_bad_lines='warn', names=['Text'])\n",
      "C:\\Users\\aless\\AppData\\Local\\Temp\\ipykernel_3416\\3762182032.py:10: ParserWarning: Falling back to the 'python' engine because the 'c' engine does not support regex separators (separators > 1 char and different from '\\s+' are interpreted as regex); you can avoid this warning by specifying engine='python'.\n",
      "  df = pd.read_csv(file_path, encoding='utf-8', delimiter='\\\\n', on_bad_lines='warn', names=['Text'])\n"
     ]
    },
    {
     "name": "stdout",
     "output_type": "stream",
     "text": [
      "dataset\\party_popper.csv\n",
      "dataset\\pile_of_poo.csv\n",
      "dataset\\rabbit.csv\n"
     ]
    },
    {
     "name": "stderr",
     "output_type": "stream",
     "text": [
      "C:\\Users\\aless\\AppData\\Local\\Temp\\ipykernel_3416\\3762182032.py:10: ParserWarning: Falling back to the 'python' engine because the 'c' engine does not support regex separators (separators > 1 char and different from '\\s+' are interpreted as regex); you can avoid this warning by specifying engine='python'.\n",
      "  df = pd.read_csv(file_path, encoding='utf-8', delimiter='\\\\n', on_bad_lines='warn', names=['Text'])\n",
      "C:\\Users\\aless\\AppData\\Local\\Temp\\ipykernel_3416\\3762182032.py:10: ParserWarning: Falling back to the 'python' engine because the 'c' engine does not support regex separators (separators > 1 char and different from '\\s+' are interpreted as regex); you can avoid this warning by specifying engine='python'.\n",
      "  df = pd.read_csv(file_path, encoding='utf-8', delimiter='\\\\n', on_bad_lines='warn', names=['Text'])\n",
      "C:\\Users\\aless\\AppData\\Local\\Temp\\ipykernel_3416\\3762182032.py:10: ParserWarning: Falling back to the 'python' engine because the 'c' engine does not support regex separators (separators > 1 char and different from '\\s+' are interpreted as regex); you can avoid this warning by specifying engine='python'.\n",
      "  df = pd.read_csv(file_path, encoding='utf-8', delimiter='\\\\n', on_bad_lines='warn', names=['Text'])\n"
     ]
    },
    {
     "name": "stdout",
     "output_type": "stream",
     "text": [
      "dataset\\rabbit_face.csv\n",
      "dataset\\red_heart.csv\n",
      "dataset\\rolling_on_the_floor_laughing.csv\n",
      "dataset\\saluting_face.csv\n",
      "dataset\\skull.csv\n"
     ]
    },
    {
     "name": "stderr",
     "output_type": "stream",
     "text": [
      "C:\\Users\\aless\\AppData\\Local\\Temp\\ipykernel_3416\\3762182032.py:10: ParserWarning: Falling back to the 'python' engine because the 'c' engine does not support regex separators (separators > 1 char and different from '\\s+' are interpreted as regex); you can avoid this warning by specifying engine='python'.\n",
      "  df = pd.read_csv(file_path, encoding='utf-8', delimiter='\\\\n', on_bad_lines='warn', names=['Text'])\n",
      "C:\\Users\\aless\\AppData\\Local\\Temp\\ipykernel_3416\\3762182032.py:10: ParserWarning: Falling back to the 'python' engine because the 'c' engine does not support regex separators (separators > 1 char and different from '\\s+' are interpreted as regex); you can avoid this warning by specifying engine='python'.\n",
      "  df = pd.read_csv(file_path, encoding='utf-8', delimiter='\\\\n', on_bad_lines='warn', names=['Text'])\n",
      "C:\\Users\\aless\\AppData\\Local\\Temp\\ipykernel_3416\\3762182032.py:10: ParserWarning: Falling back to the 'python' engine because the 'c' engine does not support regex separators (separators > 1 char and different from '\\s+' are interpreted as regex); you can avoid this warning by specifying engine='python'.\n",
      "  df = pd.read_csv(file_path, encoding='utf-8', delimiter='\\\\n', on_bad_lines='warn', names=['Text'])\n",
      "C:\\Users\\aless\\AppData\\Local\\Temp\\ipykernel_3416\\3762182032.py:10: ParserWarning: Falling back to the 'python' engine because the 'c' engine does not support regex separators (separators > 1 char and different from '\\s+' are interpreted as regex); you can avoid this warning by specifying engine='python'.\n",
      "  df = pd.read_csv(file_path, encoding='utf-8', delimiter='\\\\n', on_bad_lines='warn', names=['Text'])\n",
      "C:\\Users\\aless\\AppData\\Local\\Temp\\ipykernel_3416\\3762182032.py:10: ParserWarning: Falling back to the 'python' engine because the 'c' engine does not support regex separators (separators > 1 char and different from '\\s+' are interpreted as regex); you can avoid this warning by specifying engine='python'.\n",
      "  df = pd.read_csv(file_path, encoding='utf-8', delimiter='\\\\n', on_bad_lines='warn', names=['Text'])\n"
     ]
    },
    {
     "name": "stdout",
     "output_type": "stream",
     "text": [
      "dataset\\smiling_face.csv\n",
      "dataset\\smiling_face_with_halo.csv\n",
      "dataset\\smiling_face_with_heart-eyes.csv\n",
      "dataset\\smiling_face_with_hearts.csv\n"
     ]
    },
    {
     "name": "stderr",
     "output_type": "stream",
     "text": [
      "C:\\Users\\aless\\AppData\\Local\\Temp\\ipykernel_3416\\3762182032.py:10: ParserWarning: Falling back to the 'python' engine because the 'c' engine does not support regex separators (separators > 1 char and different from '\\s+' are interpreted as regex); you can avoid this warning by specifying engine='python'.\n",
      "  df = pd.read_csv(file_path, encoding='utf-8', delimiter='\\\\n', on_bad_lines='warn', names=['Text'])\n",
      "C:\\Users\\aless\\AppData\\Local\\Temp\\ipykernel_3416\\3762182032.py:10: ParserWarning: Falling back to the 'python' engine because the 'c' engine does not support regex separators (separators > 1 char and different from '\\s+' are interpreted as regex); you can avoid this warning by specifying engine='python'.\n",
      "  df = pd.read_csv(file_path, encoding='utf-8', delimiter='\\\\n', on_bad_lines='warn', names=['Text'])\n",
      "C:\\Users\\aless\\AppData\\Local\\Temp\\ipykernel_3416\\3762182032.py:10: ParserWarning: Falling back to the 'python' engine because the 'c' engine does not support regex separators (separators > 1 char and different from '\\s+' are interpreted as regex); you can avoid this warning by specifying engine='python'.\n",
      "  df = pd.read_csv(file_path, encoding='utf-8', delimiter='\\\\n', on_bad_lines='warn', names=['Text'])\n",
      "C:\\Users\\aless\\AppData\\Local\\Temp\\ipykernel_3416\\3762182032.py:10: ParserWarning: Falling back to the 'python' engine because the 'c' engine does not support regex separators (separators > 1 char and different from '\\s+' are interpreted as regex); you can avoid this warning by specifying engine='python'.\n",
      "  df = pd.read_csv(file_path, encoding='utf-8', delimiter='\\\\n', on_bad_lines='warn', names=['Text'])\n"
     ]
    },
    {
     "name": "stdout",
     "output_type": "stream",
     "text": [
      "dataset\\smiling_face_with_sunglasses.csv\n",
      "dataset\\smiling_face_with_tear.csv\n",
      "dataset\\sparkles.csv\n",
      "dataset\\sun.csv\n"
     ]
    },
    {
     "name": "stderr",
     "output_type": "stream",
     "text": [
      "C:\\Users\\aless\\AppData\\Local\\Temp\\ipykernel_3416\\3762182032.py:10: ParserWarning: Falling back to the 'python' engine because the 'c' engine does not support regex separators (separators > 1 char and different from '\\s+' are interpreted as regex); you can avoid this warning by specifying engine='python'.\n",
      "  df = pd.read_csv(file_path, encoding='utf-8', delimiter='\\\\n', on_bad_lines='warn', names=['Text'])\n",
      "C:\\Users\\aless\\AppData\\Local\\Temp\\ipykernel_3416\\3762182032.py:10: ParserWarning: Falling back to the 'python' engine because the 'c' engine does not support regex separators (separators > 1 char and different from '\\s+' are interpreted as regex); you can avoid this warning by specifying engine='python'.\n",
      "  df = pd.read_csv(file_path, encoding='utf-8', delimiter='\\\\n', on_bad_lines='warn', names=['Text'])\n",
      "C:\\Users\\aless\\AppData\\Local\\Temp\\ipykernel_3416\\3762182032.py:10: ParserWarning: Falling back to the 'python' engine because the 'c' engine does not support regex separators (separators > 1 char and different from '\\s+' are interpreted as regex); you can avoid this warning by specifying engine='python'.\n",
      "  df = pd.read_csv(file_path, encoding='utf-8', delimiter='\\\\n', on_bad_lines='warn', names=['Text'])\n",
      "C:\\Users\\aless\\AppData\\Local\\Temp\\ipykernel_3416\\3762182032.py:10: ParserWarning: Falling back to the 'python' engine because the 'c' engine does not support regex separators (separators > 1 char and different from '\\s+' are interpreted as regex); you can avoid this warning by specifying engine='python'.\n",
      "  df = pd.read_csv(file_path, encoding='utf-8', delimiter='\\\\n', on_bad_lines='warn', names=['Text'])\n",
      "C:\\Users\\aless\\AppData\\Local\\Temp\\ipykernel_3416\\3762182032.py:10: ParserWarning: Falling back to the 'python' engine because the 'c' engine does not support regex separators (separators > 1 char and different from '\\s+' are interpreted as regex); you can avoid this warning by specifying engine='python'.\n",
      "  df = pd.read_csv(file_path, encoding='utf-8', delimiter='\\\\n', on_bad_lines='warn', names=['Text'])\n"
     ]
    },
    {
     "name": "stdout",
     "output_type": "stream",
     "text": [
      "dataset\\thinking_face.csv\n",
      "dataset\\thumbs_up.csv\n",
      "dataset\\white_heart.csv\n",
      "dataset\\winking_face.csv\n"
     ]
    },
    {
     "name": "stderr",
     "output_type": "stream",
     "text": [
      "C:\\Users\\aless\\AppData\\Local\\Temp\\ipykernel_3416\\3762182032.py:10: ParserWarning: Falling back to the 'python' engine because the 'c' engine does not support regex separators (separators > 1 char and different from '\\s+' are interpreted as regex); you can avoid this warning by specifying engine='python'.\n",
      "  df = pd.read_csv(file_path, encoding='utf-8', delimiter='\\\\n', on_bad_lines='warn', names=['Text'])\n",
      "C:\\Users\\aless\\AppData\\Local\\Temp\\ipykernel_3416\\3762182032.py:10: ParserWarning: Falling back to the 'python' engine because the 'c' engine does not support regex separators (separators > 1 char and different from '\\s+' are interpreted as regex); you can avoid this warning by specifying engine='python'.\n",
      "  df = pd.read_csv(file_path, encoding='utf-8', delimiter='\\\\n', on_bad_lines='warn', names=['Text'])\n",
      "C:\\Users\\aless\\AppData\\Local\\Temp\\ipykernel_3416\\3762182032.py:10: ParserWarning: Falling back to the 'python' engine because the 'c' engine does not support regex separators (separators > 1 char and different from '\\s+' are interpreted as regex); you can avoid this warning by specifying engine='python'.\n",
      "  df = pd.read_csv(file_path, encoding='utf-8', delimiter='\\\\n', on_bad_lines='warn', names=['Text'])\n"
     ]
    }
   ],
   "source": [
    "import os \n",
    "import pandas as pd \n",
    "\n",
    "ROOT = \"dataset\"\n",
    "dfs = []\n",
    "\n",
    "for filename in os.listdir(ROOT):\n",
    "    file_path = os.path.join(ROOT, filename)\n",
    "    print(file_path)\n",
    "    df = pd.read_csv(file_path, encoding='utf-8', delimiter='\\\\n', on_bad_lines='warn', names=['Text'])\n",
    "    dfs.append(df)\n",
    "\n",
    "full_df = pd.concat(dfs, ignore_index=True)"
   ]
  },
  {
   "cell_type": "code",
   "execution_count": 39,
   "metadata": {},
   "outputs": [
    {
     "data": {
      "text/html": [
       "<div>\n",
       "<style scoped>\n",
       "    .dataframe tbody tr th:only-of-type {\n",
       "        vertical-align: middle;\n",
       "    }\n",
       "\n",
       "    .dataframe tbody tr th {\n",
       "        vertical-align: top;\n",
       "    }\n",
       "\n",
       "    .dataframe thead th {\n",
       "        text-align: right;\n",
       "    }\n",
       "</style>\n",
       "<table border=\"1\" class=\"dataframe\">\n",
       "  <thead>\n",
       "    <tr style=\"text-align: right;\">\n",
       "      <th></th>\n",
       "      <th>Text</th>\n",
       "    </tr>\n",
       "  </thead>\n",
       "  <tbody>\n",
       "  </tbody>\n",
       "</table>\n",
       "</div>"
      ],
      "text/plain": [
       "Empty DataFrame\n",
       "Columns: [Text]\n",
       "Index: []"
      ]
     },
     "execution_count": 39,
     "metadata": {},
     "output_type": "execute_result"
    }
   ],
   "source": [
    "pd.set_option('display.max_colwidth', None)\n",
    "\n",
    "full_df.shape\n",
    "\n",
    "uniques = full_df.drop_duplicates()\n",
    "non_string_rows = uniques[~uniques['Text'].apply(lambda x: isinstance(x, str))]"
   ]
  },
  {
   "cell_type": "code",
   "execution_count": 61,
   "metadata": {},
   "outputs": [
    {
     "data": {
      "text/plain": [
       "34577"
      ]
     },
     "execution_count": 61,
     "metadata": {},
     "output_type": "execute_result"
    }
   ],
   "source": [
    "filtered = uniques[uniques['Text'].str.contains('🔥')]\n",
    "len(filtered)"
   ]
  },
  {
   "cell_type": "code",
   "execution_count": 64,
   "metadata": {},
   "outputs": [],
   "source": [
    "from lookup import root as d\n",
    "\n",
    "for key, value in d.items():\n",
    "    d[key]['dataset_count'] = len(uniques[uniques['Text'].str.contains(key)])"
   ]
  },
  {
   "cell_type": "code",
   "execution_count": null,
   "metadata": {},
   "outputs": [],
   "source": []
  },
  {
   "cell_type": "code",
   "execution_count": 66,
   "metadata": {},
   "outputs": [],
   "source": [
    "import json \n",
    "\n",
    "with open(\"lookup.json\", 'w') as json_file:\n",
    "    json.dump(d, json_file, indent=4)"
   ]
  },
  {
   "cell_type": "code",
   "execution_count": 76,
   "metadata": {},
   "outputs": [
    {
     "data": {
      "text/html": [
       "<div>\n",
       "<style scoped>\n",
       "    .dataframe tbody tr th:only-of-type {\n",
       "        vertical-align: middle;\n",
       "    }\n",
       "\n",
       "    .dataframe tbody tr th {\n",
       "        vertical-align: top;\n",
       "    }\n",
       "\n",
       "    .dataframe thead th {\n",
       "        text-align: right;\n",
       "    }\n",
       "</style>\n",
       "<table border=\"1\" class=\"dataframe\">\n",
       "  <thead>\n",
       "    <tr style=\"text-align: right;\">\n",
       "      <th></th>\n",
       "      <th>name</th>\n",
       "      <th>unicode</th>\n",
       "      <th>visual_features</th>\n",
       "      <th>embedding</th>\n",
       "      <th>mixed_features</th>\n",
       "      <th>dataset_count</th>\n",
       "    </tr>\n",
       "  </thead>\n",
       "  <tbody>\n",
       "    <tr>\n",
       "      <th>💦</th>\n",
       "      <td>spurt</td>\n",
       "      <td>U0001F4A6</td>\n",
       "      <td>None</td>\n",
       "      <td>None</td>\n",
       "      <td>None</td>\n",
       "      <td>1217</td>\n",
       "    </tr>\n",
       "    <tr>\n",
       "      <th>➡️</th>\n",
       "      <td>go-right</td>\n",
       "      <td>U000027A1</td>\n",
       "      <td>None</td>\n",
       "      <td>None</td>\n",
       "      <td>None</td>\n",
       "      <td>1223</td>\n",
       "    </tr>\n",
       "    <tr>\n",
       "      <th>⚡</th>\n",
       "      <td>bolt</td>\n",
       "      <td>U000026A1</td>\n",
       "      <td>None</td>\n",
       "      <td>None</td>\n",
       "      <td>None</td>\n",
       "      <td>1237</td>\n",
       "    </tr>\n",
       "    <tr>\n",
       "      <th>🥴</th>\n",
       "      <td>drunk</td>\n",
       "      <td>U0001F974</td>\n",
       "      <td>None</td>\n",
       "      <td>None</td>\n",
       "      <td>None</td>\n",
       "      <td>1423</td>\n",
       "    </tr>\n",
       "    <tr>\n",
       "      <th>🐶</th>\n",
       "      <td>doggo</td>\n",
       "      <td>U0001F436</td>\n",
       "      <td>None</td>\n",
       "      <td>None</td>\n",
       "      <td>None</td>\n",
       "      <td>1435</td>\n",
       "    </tr>\n",
       "    <tr>\n",
       "      <th>😢</th>\n",
       "      <td>tear</td>\n",
       "      <td>U0001F622</td>\n",
       "      <td>None</td>\n",
       "      <td>None</td>\n",
       "      <td>None</td>\n",
       "      <td>1460</td>\n",
       "    </tr>\n",
       "    <tr>\n",
       "      <th>🙈</th>\n",
       "      <td>monkey-eyes</td>\n",
       "      <td>U0001F648</td>\n",
       "      <td>None</td>\n",
       "      <td>None</td>\n",
       "      <td>None</td>\n",
       "      <td>1561</td>\n",
       "    </tr>\n",
       "    <tr>\n",
       "      <th>🤮</th>\n",
       "      <td>puke</td>\n",
       "      <td>U0001F92E</td>\n",
       "      <td>None</td>\n",
       "      <td>None</td>\n",
       "      <td>None</td>\n",
       "      <td>1645</td>\n",
       "    </tr>\n",
       "    <tr>\n",
       "      <th>🌟</th>\n",
       "      <td>star</td>\n",
       "      <td>U0001F31F</td>\n",
       "      <td>None</td>\n",
       "      <td>None</td>\n",
       "      <td>None</td>\n",
       "      <td>1708</td>\n",
       "    </tr>\n",
       "    <tr>\n",
       "      <th>🌈</th>\n",
       "      <td>pride</td>\n",
       "      <td>U0001F308</td>\n",
       "      <td>None</td>\n",
       "      <td>None</td>\n",
       "      <td>None</td>\n",
       "      <td>1899</td>\n",
       "    </tr>\n",
       "  </tbody>\n",
       "</table>\n",
       "</div>"
      ],
      "text/plain": [
       "           name    unicode visual_features embedding mixed_features  \\\n",
       "💦         spurt  U0001F4A6            None      None           None   \n",
       "➡️     go-right  U000027A1            None      None           None   \n",
       "⚡          bolt  U000026A1            None      None           None   \n",
       "🥴         drunk  U0001F974            None      None           None   \n",
       "🐶         doggo  U0001F436            None      None           None   \n",
       "😢          tear  U0001F622            None      None           None   \n",
       "🙈   monkey-eyes  U0001F648            None      None           None   \n",
       "🤮          puke  U0001F92E            None      None           None   \n",
       "🌟          star  U0001F31F            None      None           None   \n",
       "🌈         pride  U0001F308            None      None           None   \n",
       "\n",
       "   dataset_count  \n",
       "💦           1217  \n",
       "➡️          1223  \n",
       "⚡           1237  \n",
       "🥴           1423  \n",
       "🐶           1435  \n",
       "😢           1460  \n",
       "🙈           1561  \n",
       "🤮           1645  \n",
       "🌟           1708  \n",
       "🌈           1899  "
      ]
     },
     "execution_count": 76,
     "metadata": {},
     "output_type": "execute_result"
    }
   ],
   "source": [
    "df_with_counts = pd.read_json(\"lookup.json\").T\n",
    "\n",
    "df_with_counts = df_with_counts.sort_values(by='dataset_count', ascending=True)\n",
    "df_with_counts[30:40]"
   ]
  },
  {
   "cell_type": "code",
   "execution_count": 90,
   "metadata": {},
   "outputs": [
    {
     "data": {
      "image/png": "[encoded data removed]",
      "text/plain": [
       "<Figure size 640x480 with 1 Axes>"
      ]
     },
     "metadata": {},
     "output_type": "display_data"
    }
   ],
   "source": [
    "import pandas as pd\n",
    "import matplotlib.pyplot as plt\n",
    "\n",
    "# Assuming you have a DataFrame named df and a column named 'column_name'\n",
    "# Replace 'column_name' with the name of your column\n",
    "# Example: df['age']\n",
    "\n",
    "# Generate the histogram\n",
    "plt.hist(df_with_counts['dataset_count'], bins=100, color='skyblue', edgecolor='black')\n",
    "\n",
    "# Add labels and title\n",
    "plt.xlabel('Values')\n",
    "plt.ylabel('Frequency')\n",
    "plt.xticks((range(0, 50001, 5000)\n",
    "            ))\n",
    "plt.title('Histogram of Column Values')\n",
    "\n",
    "# Show the plot\n",
    "plt.show()"
   ]
  }
 ],
 "metadata": {
  "kernelspec": {
   "display_name": "Python 3",
   "language": "python",
   "name": "python3"
  },
  "language_info": {
   "codemirror_mode": {
    "name": "ipython",
    "version": 3
   },
   "file_extension": ".py",
   "mimetype": "text/x-python",
   "name": "python",
   "nbconvert_exporter": "python",
   "pygments_lexer": "ipython3",
   "version": "3.10.11"
  }
 },
 "nbformat": 4,
 "nbformat_minor": 2
}
